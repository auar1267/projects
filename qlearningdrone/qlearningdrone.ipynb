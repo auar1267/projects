{
 "cells": [
  {
   "cell_type": "code",
   "execution_count": 7,
   "metadata": {
    "collapsed": true
   },
   "outputs": [],
   "source": [
    "import pandas as pd\n",
    "import numpy as np\n",
    "import scipy.stats as stats\n",
    "import matplotlib.pyplot as plt\n",
    "from matplotlib import colors\n",
    "from collections import defaultdict\n",
    "import heapq\n",
    "%matplotlib inline"
   ]
  },
  {
   "cell_type": "code",
   "execution_count": 8,
   "metadata": {
    "collapsed": true
   },
   "outputs": [],
   "source": [
    "class MDPLanding:\n",
    "    def __init__(self, L, default_reward, discount):\n",
    "        \n",
    "        self.states = []\n",
    "        for x in range(L + 1):\n",
    "            for y in range(L + 1):\n",
    "                for z in range(L + 1):\n",
    "                    self.states.append((x, y, z))\n",
    "        \n",
    "        terminal = {} \n",
    "        for state in self.states:\n",
    "            x, y, z = state\n",
    "            if z == 0:\n",
    "                terminal[state] = -1\n",
    "        \n",
    "        landing_pad = (L/2, L/2, 0)\n",
    "        terminal[landing_pad] = 1\n",
    "        self.terminal_states = terminal\n",
    "        self.default_reward = default_reward\n",
    "        self.all_actions = ['Up', 'Down', 'North', 'South', 'East', 'West']\n",
    "        self.discount = discount\n",
    "\n",
    "    def actions(self, state):\n",
    "        \n",
    "        if state in self.terminal_states:\n",
    "            return [None]\n",
    "        \n",
    "        (x, y, z) = state\n",
    "        poss_actions = []\n",
    "        if (x, y, z + 1) in self.states: \n",
    "            poss_actions.append('Up')\n",
    "        if (x, y, z - 1) in self.states: \n",
    "            poss_actions.append('Down')\n",
    "        if (x, y + 1, z) in self.states:\n",
    "            poss_actions.append('North')\n",
    "        if (x, y - 1, z) in self.states: \n",
    "            poss_actions.append('South')\n",
    "        if (x + 1, y, z) in self.states: \n",
    "            poss_actions.append('East')\n",
    "        if (x - 1, y, z) in self.states:\n",
    "            poss_actions.append('West')\n",
    "    \n",
    "        return poss_actions\n",
    "        \n",
    "    def reward(self, state):\n",
    "    \n",
    "        if state not in self.terminal_states:\n",
    "            return self.default_reward\n",
    "        else:\n",
    "            return self.terminal_states[state]\n",
    "        \n",
    "        \n",
    "    def result(self, state, action):\n",
    "    \n",
    "        (x, y, z) = state\n",
    "        results = {'Up': (x, y, z + 1),\n",
    "                   'Down': (x, y, z - 1),\n",
    "                   'North': (x, y + 1, z),\n",
    "                   'South': (x, y - 1, z,),\n",
    "                   'East': (x + 1, y, z),\n",
    "                   'West': (x - 1, y, z)}\n",
    "        \n",
    "        if action == None:\n",
    "            return state\n",
    "        else:\n",
    "            return results[action]"
   ]
  },
  {
   "cell_type": "code",
   "execution_count": 9,
   "metadata": {
    "collapsed": true
   },
   "outputs": [],
   "source": [
    "def policy_iteration(mdp):\n",
    "    utility = {state: mdp.reward(state) for state in mdp.states}\n",
    "    policy = {state: np.random.choice(mdp.actions(state)) for state in mdp.states}\n",
    "    \n",
    "    # iterate:\n",
    "    while(True):\n",
    "        utility = policy_evaluation(policy, utility, mdp, 25)\n",
    "        noChange = True\n",
    "        for state in mdp.states:\n",
    "            maxUtility = -np.inf\n",
    "            bestAction = policy[state]\n",
    "            poss_actions = mdp.actions(state)\n",
    "            for action in poss_actions:\n",
    "                \n",
    "                currentUtility = utility[mdp.result(state, action)]\n",
    "                \n",
    "                if currentUtility > maxUtility:\n",
    "                    maxUtility = currentUtility\n",
    "                    bestAction = action\n",
    "            \n",
    "            if policy[state] != bestAction:\n",
    "                policy[state] = bestAction\n",
    "                noChange = False\n",
    "            \n",
    "        if noChange == True:\n",
    "            return utility, policy\n",
    "    \n",
    "    return utility, policy\n",
    "                \n",
    "        \n",
    "def policy_evaluation(policy, utility, mdp, n_trials):\n",
    "    for i in range(n_trials):\n",
    "        for state in mdp.states:\n",
    "            nextState = mdp.result(state, policy[state])\n",
    "            utility[state] = mdp.reward(state) + mdp.discount * utility[nextState]\n",
    "    return utility"
   ]
  },
  {
   "cell_type": "code",
   "execution_count": 10,
   "metadata": {},
   "outputs": [
    {
     "name": "stdout",
     "output_type": "stream",
     "text": [
      "The policy for (2, 2, 1) is Down\n",
      "The policy for (0, 2, 1) is East\n",
      "The policy for (2, 0, 1) is North\n"
     ]
    }
   ],
   "source": [
    "mdpDrone = MDPLanding(4, -0.01, 0.999)\n",
    "droneUtility, dronePolicy = policy_iteration(mdpDrone)\n",
    "\n",
    "print('The policy for (2, 2, 1) is {}'.format(dronePolicy[(2, 2, 1)]))\n",
    "print('The policy for (0, 2, 1) is {}'.format(dronePolicy[(0, 2, 1)]))\n",
    "print('The policy for (2, 0, 1) is {}'.format(dronePolicy[(2, 0, 1)]))"
   ]
  },
  {
   "cell_type": "markdown",
   "metadata": {},
   "source": [
    "First one makes sense as we would just want to move down onto the landing platform (2, 2, 0). The second one makes sense as we want to move East to (2, 2, 1) to then move down onto the landing platform. Same general idea with (2, 0, 1,) but moving North. So yeah, these all make sense."
   ]
  },
  {
   "cell_type": "code",
   "execution_count": 11,
   "metadata": {
    "collapsed": true
   },
   "outputs": [],
   "source": [
    "def run_training(mdp, n_trials):\n",
    "\n",
    "    Q = {}\n",
    "    for state in mdp.states:\n",
    "        for action in mdp.actions(state):\n",
    "            Q[(state, action)] = mdp.reward(mdp.result(state, action))\n",
    "    policy = {state: np.random.choice(mdp.actions(state)) for state in mdp.states}\n",
    "    cumulative_reward_list = []\n",
    "    \n",
    "    for k in range(n_trials):\n",
    "        cumulative_reward = 0\n",
    "        \n",
    "        state = (0, 0, 0)\n",
    "        while state[2] == 0:\n",
    "            choice = np.random.choice(len(mdp.states))\n",
    "            state = mdp.states[choice]\n",
    "        reward = mdp.reward(state)\n",
    "        \n",
    "        for t in range(50):\n",
    "            alpha = 1/(1 + t)\n",
    "            \n",
    "            action = policy[state]\n",
    "            \n",
    "            nextState = mdp.result(state, action)\n",
    "            nextReward = mdp.reward(nextState)\n",
    "            \n",
    "            cumulative_reward += (mdp.discount**t) *reward\n",
    "            \n",
    "            if nextState in mdp.terminal_states:\n",
    "                cumulative_reward += (mdp.discount**(t+1))*nextReward\n",
    "                break\n",
    "                    \n",
    "            maxQ = max(Q[(nextState, nextAction)] for nextAction in mdp.actions(nextState))\n",
    "            \n",
    "            for nextAction in mdp.actions(nextState):\n",
    "                if Q[(nextState, nextAction)] == maxQ:\n",
    "                    policy[nextState] = nextAction\n",
    "                    \n",
    "            Q[(state, action)] +=  alpha*(reward + mdp.discount*maxQ - Q[(state, action)])\n",
    "            \n",
    "            \n",
    "            state = nextState\n",
    "            reward = mdp.reward(nextState)\n",
    "        \n",
    "        cumulative_reward_list.append(cumulative_reward) \n",
    "    return cumulative_reward_list"
   ]
  },
  {
   "cell_type": "code",
   "execution_count": 12,
   "metadata": {
    "collapsed": true
   },
   "outputs": [],
   "source": [
    "newmdpDrone = MDPLanding(10, -0.01, 0.999)\n",
    "hopefullyNotDumbDrone = run_training(newmdpDrone, 10000)"
   ]
  },
  {
   "cell_type": "code",
   "execution_count": 13,
   "metadata": {},
   "outputs": [
    {
     "name": "stdout",
     "output_type": "stream",
     "text": [
      "The mean for the last 5000 trials's cumulative reward is: 0.8682489090239158\n"
     ]
    },
    {
     "data": {
      "image/png": "[encoded data removed]",
      "text/plain": [
       "<matplotlib.figure.Figure at 0x1b3daf85080>"
      ]
     },
     "metadata": {},
     "output_type": "display_data"
    }
   ],
   "source": [
    "blocks = []\n",
    "blockNum = 0\n",
    "currentSum = 0\n",
    "for i in range(len(hopefullyNotDumbDrone)):\n",
    "    blockNum += 1\n",
    "    currentSum += hopefullyNotDumbDrone[i]\n",
    "    if blockNum == 500:\n",
    "        blocks.append(currentSum/500)\n",
    "        blockNum = 0\n",
    "        currentSum = 0\n",
    "fig, ax = plt.subplots(nrows=1, ncols=1, figsize=(18,9))\n",
    "\n",
    "ax.plot(blocks, color = \"r\")\n",
    "ax.set_xlabel('Bucket Block (500 Trials each)', fontsize=26)\n",
    "ax.set_ylabel('Cumulative Reward', fontsize=26)\n",
    "ax.set_title('Cumulative Reward every 500 buckets', fontsize=26)\n",
    "\n",
    "ax.grid(alpha=0.25)\n",
    "ax.set_axisbelow(True)\n",
    "\n",
    "\n",
    "last5000Trials = np.mean(hopefullyNotDumbDrone[-5000:])\n",
    "print(\"The mean for the last 5000 trials's cumulative reward is: {}\".format(last5000Trials))"
   ]
  },
  {
   "cell_type": "code",
   "execution_count": null,
   "metadata": {
    "collapsed": true
   },
   "outputs": [],
   "source": []
  }
 ],
 "metadata": {
  "kernelspec": {
   "display_name": "Python 3",
   "language": "python",
   "name": "python3"
  },
  "language_info": {
   "codemirror_mode": {
    "name": "ipython",
    "version": 3
   },
   "file_extension": ".py",
   "mimetype": "text/x-python",
   "name": "python",
   "nbconvert_exporter": "python",
   "pygments_lexer": "ipython3",
   "version": "3.6.1"
  }
 },
 "nbformat": 4,
 "nbformat_minor": 2
}
